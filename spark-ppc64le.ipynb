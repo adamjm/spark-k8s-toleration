{
 "cells": [
  {
   "cell_type": "code",
   "execution_count": null,
   "id": "collective-plenty",
   "metadata": {},
   "outputs": [],
   "source": [
    "import socket, pandas\n",
    "from pyspark.sql import SparkSession\n",
    "import pyspark"
   ]
  },
  {
   "cell_type": "code",
   "execution_count": null,
   "id": "changing-gamma",
   "metadata": {},
   "outputs": [],
   "source": [
    "pod_template = \"./spark-pod-template.yaml\""
   ]
  },
  {
   "cell_type": "code",
   "execution_count": null,
   "id": "corresponding-detection",
   "metadata": {},
   "outputs": [],
   "source": [
    "sparkSession = SparkSession.builder \\\n",
    ".config('spark.master', 'k8s://https://kubernetes.default.svc.cluster.local') \\\n",
    ".config(\"spark.executor.instances\",\"8\") \\\n",
    ".config(\"spark.executor.memory\",\"4G\") \\\n",
    ".config(\"spark.executor.cores\",\"4\") \\\n",
    ".config(\"spark.kubernetes.executor.request.cores\",\"250m\") \\\n",
    ".config(\"spark.kerberos.keytab\",\"/etc/secrets/keytab\") \\\n",
    ".config(\"spark.kerberos.principal\",open('/etc/secrets/principal', 'r').read()) \\\n",
    ".config(\"spark.kubernetes.namespace\",open('/var/run/secrets/kubernetes.io/serviceaccount/namespace','r').read()) \\\n",
    ".config(\"spark.kubernetes.driver.annotation.sidecar.istio.io/inject\", \"false\") \\ ## Used if istio is deployed for example in Kubeflow (remove comments to run without error)\n",
    ".config(\"spark.kubernetes.executor.annotation.sidecar.istio.io/inject\", \"false\") \\ ## Used if istio is deployed for example in Kubeflow\n",
    ".config(\"spark.kubernetes.driver.podTemplateFile\", pod_template) \\ ## Use this pod_template to add tolerations + node_selector\n",
    ".config(\"spark.kubernetes.executor.podTemplateFile\", pod_template) \\ ## Use this pod_template to add tolerations + node_selector\n",
    ".config(\"spark.kubernetes.container.image\", )\n",
    ".config(\"spark.driver.host\", socket.gethostbyname(socket.gethostname())) \\\n",
    ".appName(\"Spark On Kube\") \\\n",
    ".enableHiveSupport() \\\n",
    ".getOrCreate()"
   ]
  },
  {
   "cell_type": "code",
   "execution_count": null,
   "id": "sonic-warrior",
   "metadata": {},
   "outputs": [],
   "source": []
  },
  {
   "cell_type": "code",
   "execution_count": null,
   "id": "second-better",
   "metadata": {},
   "outputs": [],
   "source": []
  }
 ],
 "metadata": {
  "kernelspec": {
   "display_name": "Python 3",
   "language": "python",
   "name": "python3"
  },
  "language_info": {
   "codemirror_mode": {
    "name": "ipython",
    "version": 3
   },
   "file_extension": ".py",
   "mimetype": "text/x-python",
   "name": "python",
   "nbconvert_exporter": "python",
   "pygments_lexer": "ipython3",
   "version": "3.8.6"
  }
 },
 "nbformat": 4,
 "nbformat_minor": 5
}
